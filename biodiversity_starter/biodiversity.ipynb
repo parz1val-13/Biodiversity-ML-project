{
 "cells": [
  {
   "cell_type": "markdown",
   "metadata": {},
   "source": [
    "# Introduction\n",
    "\n",
    "The purpose of this Project is to analyze data about diverse species observed in various national park areas. The data used for this project was obtained from the national park service and is *inspired* by genuine data but is primarily fictitious. \n",
    "\n",
    "This project will scope, analyse, prepare, plot data, and attempt to explain the conclusions of the analysis.\n",
    "\n",
    "The project objective can be broken down into the following questions:\n",
    "\n",
    "- What is the distribution of conservation status for species?\n",
    "- Are particular sorts of species more likely to become endangered?\n",
    "- Are differences in species conservation status relatively significant?\n",
    "- Which animals are most common, and how are they distributed among parks?\n",
    "\n",
    "**Data sources:**\n",
    "\n",
    "'Observations.csv' and 'Species info.csv' - [Codecademy.com](https://www.codecademy.com).\n"
   ]
  },
  {
   "cell_type": "markdown",
   "metadata": {},
   "source": [
    "# Scope\n",
    "\n",
    "This project aims to help the national park services to prevent loss of biodiversity from various national parks. The loss of biodiversity impacts the whole eco system of the park as a whole since all life forms within the park depend on each other either directly or indirectly.\n",
    "\n",
    " The first section defines the project goals; this section will outline the high-level objectives and set the project's aims. The second section is the data; which is already provided in this project, but it still needs to be cleaned and tuned to meet the project goals. The third section includes the analysis, which includes the methodologies and questions that are linked with the project objectives. Finally, the evaluation will aid us in drawing conclusions to explain our findings from our analysis.\n",
    "\n",
    "#### 1. Project Goals\n",
    "\n",
    "The perspective of the this project will be through a biodiversity analyst for the National Parks Service. As analysts, we want to identify any at-risk and endangered species to ensure their survival, in order to maintain a high level of biodiversity within their parks. Therefore, the main objectives as an analyst will be understanding characteristics about the species, their conservations status, and their relationship to the rest of the national park's ecosystem. The project goals can be framed into the following questions:\n",
    "\n",
    "- What is the distribution of conservation status for species?\n",
    "- Identify types of species which are more likely to be endangered if any?\n",
    "- Are the differences between species and their conservation status significant?\n",
    "- Which animal species is the most common and what is their distribution amongst different national parks?\n",
    "\n",
    "#### 2. Data\n",
    "\n",
    "The first `csv` file has information about each species and the other has observations of species with respective park locations. \n",
    "\n",
    "#### 3. Analysis\n",
    "\n",
    "To perform data analysis, descriptive statistics and data visualization techniques will be employed to understand the data. Statistical inference will also be used to test if the observed values are statistically significant. Some of the key metrics that will be computed include: \n",
    "\n",
    "1. Distributions\n",
    "1. counts\n",
    "1. relationship between species\n",
    "1. conservation status of species\n",
    "1. observations of species in parks. \n",
    "\n",
    "#### 4. Evaluation\n",
    "\n",
    "Lastly, in this section we will revisit the goals and check if the output of the analysis can explain the questions we first set to answer. This section will also reflect on what has been learned through the process, and if any of the questions were left un-answered. This could also include limitations or if any of the analysis could have been done using different techniques.\n"
   ]
  },
  {
   "cell_type": "markdown",
   "metadata": {},
   "source": [
    "# PROJECT CODE"
   ]
  },
  {
   "attachments": {},
   "cell_type": "markdown",
   "metadata": {},
   "source": [
    "### Step 1. Importing modules\n",
    "We import the following modules to achieve the respective goals;\n",
    "\n",
    "- PANDAS - We import pandas to create a csv reader object that can be used to extract the raw data from the provided data files.\n",
    "\n",
    " "
   ]
  },
  {
   "cell_type": "code",
   "execution_count": 1,
   "metadata": {},
   "outputs": [],
   "source": [
    "import pandas as pd\n",
    "\n"
   ]
  },
  {
   "attachments": {},
   "cell_type": "markdown",
   "metadata": {},
   "source": [
    "### Step 2. Load the Data\n",
    "The given CSV data files include:\n",
    "\n",
    "species_info.csv - contains data about different species and their conservation status\n",
    "observations.csv - holds recorded sightings of different species at several national parks for the past 7 days.\n",
    "The datasets provided have the following columns of data:\n",
    "\n",
    "species_info.csv:\n",
    "\n",
    "- category - class of animal\n",
    "- scientific_name - the scientific name of each species\n",
    "- common_name - the common names of each species\n",
    "- conservation_status - each species’ current conservation status\n",
    "\n",
    "observations.csv:\n",
    "\n",
    "- scientific_name - the scientific name of each species\n",
    "- park_name - Park where species were found\n",
    "- observations - the number of times each species was observed at park"
   ]
  },
  {
   "cell_type": "code",
   "execution_count": 2,
   "metadata": {},
   "outputs": [
    {
     "data": {
      "text/html": [
       "<div>\n",
       "<style scoped>\n",
       "    .dataframe tbody tr th:only-of-type {\n",
       "        vertical-align: middle;\n",
       "    }\n",
       "\n",
       "    .dataframe tbody tr th {\n",
       "        vertical-align: top;\n",
       "    }\n",
       "\n",
       "    .dataframe thead th {\n",
       "        text-align: right;\n",
       "    }\n",
       "</style>\n",
       "<table border=\"1\" class=\"dataframe\">\n",
       "  <thead>\n",
       "    <tr style=\"text-align: right;\">\n",
       "      <th></th>\n",
       "      <th>scientific_name</th>\n",
       "      <th>park_name</th>\n",
       "      <th>observations</th>\n",
       "    </tr>\n",
       "  </thead>\n",
       "  <tbody>\n",
       "    <tr>\n",
       "      <th>0</th>\n",
       "      <td>Vicia benghalensis</td>\n",
       "      <td>Great Smoky Mountains National Park</td>\n",
       "      <td>68</td>\n",
       "    </tr>\n",
       "    <tr>\n",
       "      <th>1</th>\n",
       "      <td>Neovison vison</td>\n",
       "      <td>Great Smoky Mountains National Park</td>\n",
       "      <td>77</td>\n",
       "    </tr>\n",
       "    <tr>\n",
       "      <th>2</th>\n",
       "      <td>Prunus subcordata</td>\n",
       "      <td>Yosemite National Park</td>\n",
       "      <td>138</td>\n",
       "    </tr>\n",
       "    <tr>\n",
       "      <th>3</th>\n",
       "      <td>Abutilon theophrasti</td>\n",
       "      <td>Bryce National Park</td>\n",
       "      <td>84</td>\n",
       "    </tr>\n",
       "    <tr>\n",
       "      <th>4</th>\n",
       "      <td>Githopsis specularioides</td>\n",
       "      <td>Great Smoky Mountains National Park</td>\n",
       "      <td>85</td>\n",
       "    </tr>\n",
       "  </tbody>\n",
       "</table>\n",
       "</div>"
      ],
      "text/plain": [
       "            scientific_name                            park_name  observations\n",
       "0        Vicia benghalensis  Great Smoky Mountains National Park            68\n",
       "1            Neovison vison  Great Smoky Mountains National Park            77\n",
       "2         Prunus subcordata               Yosemite National Park           138\n",
       "3      Abutilon theophrasti                  Bryce National Park            84\n",
       "4  Githopsis specularioides  Great Smoky Mountains National Park            85"
      ]
     },
     "execution_count": 2,
     "metadata": {},
     "output_type": "execute_result"
    }
   ],
   "source": [
    "species_data = pd.read_csv('species_info.csv')  # We utilise dataframe data structure to store extracted data\n",
    "species_data.head()  # To peek the the extracted data\n",
    "\n",
    "observation_data = pd.read_csv('observations.csv')\n",
    "observation_data.head()"
   ]
  },
  {
   "cell_type": "code",
   "execution_count": 3,
   "metadata": {},
   "outputs": [
    {
     "name": "stdout",
     "output_type": "stream",
     "text": [
      "Species data dimensions are: (5824, 4)\n",
      "Observed data dimensions are: (23296, 3)\n"
     ]
    }
   ],
   "source": [
    "species_shape = species_data.shape  # To check the dimensions of the species data matrix\n",
    "print('Species data dimensions are:', species_shape)\n",
    "observation_shape = observation_data.shape  # To check the dimensions of the observed data matrix\n",
    "print('Observed data dimensions are:', observation_shape)"
   ]
  },
  {
   "attachments": {},
   "cell_type": "markdown",
   "metadata": {},
   "source": [
    "### Step 3. Exploring the Data\n",
    "To calculate summary statistics for our data sets;\n",
    "- We first need to extract the total number of species we are dealing with\n",
    "- Next we need to know the distinct categories of species we have\n",
    "- Then we can obtain the counts of species in each of the categories\n",
    "- And finally we can obtain the number of conservation status categories and their counts respectively "
   ]
  },
  {
   "attachments": {},
   "cell_type": "markdown",
   "metadata": {},
   "source": [
    "#### 3.1 Species count\n",
    "To obtain this count, we can simply look for all the unique species names in the scientific_name column in the species_info.csv data file and count them up."
   ]
  },
  {
   "cell_type": "code",
   "execution_count": 4,
   "metadata": {},
   "outputs": [
    {
     "name": "stdout",
     "output_type": "stream",
     "text": [
      "The total number of unique species is:  5541\n"
     ]
    }
   ],
   "source": [
    "species_count = species_data.scientific_name.nunique()\n",
    "print(\"The total number of unique species is: \", species_count)"
   ]
  },
  {
   "attachments": {},
   "cell_type": "markdown",
   "metadata": {},
   "source": [
    "#### 3.2 Species categories count\n",
    "To obtain this count, we can simply look for all the unique species category names in the category column in the species_info.csv data file and count them up."
   ]
  },
  {
   "cell_type": "code",
   "execution_count": 5,
   "metadata": {},
   "outputs": [
    {
     "name": "stdout",
     "output_type": "stream",
     "text": [
      "The total number of unique species categories is:  7\n"
     ]
    }
   ],
   "source": [
    "species_categories_count = species_data.category.nunique()\n",
    "print(\"The total number of unique species categories is: \", species_categories_count)"
   ]
  },
  {
   "attachments": {},
   "cell_type": "markdown",
   "metadata": {},
   "source": [
    "#### 3.3 Species count for each unique category\n",
    "To obtain this count, we can simply group the data set by category and obtain the size of each data set."
   ]
  },
  {
   "cell_type": "code",
   "execution_count": 6,
   "metadata": {},
   "outputs": [
    {
     "name": "stdout",
     "output_type": "stream",
     "text": [
      "category\n",
      "Amphibian              80\n",
      "Bird                  521\n",
      "Fish                  127\n",
      "Mammal                214\n",
      "Nonvascular Plant     333\n",
      "Reptile                79\n",
      "Vascular Plant       4470\n",
      "dtype: int64\n"
     ]
    }
   ],
   "source": [
    "grouped_categories = species_data.groupby(\"category\").size()\n",
    "print(grouped_categories)"
   ]
  },
  {
   "attachments": {},
   "cell_type": "markdown",
   "metadata": {},
   "source": [
    "#### 3.4 Conservation status category count & list\n",
    "To obtain this count, we can simply look for all the unique conservation category names in the conservation_status column in the species_info.csv data file and count them up."
   ]
  },
  {
   "cell_type": "code",
   "execution_count": 20,
   "metadata": {},
   "outputs": [
    {
     "name": "stdout",
     "output_type": "stream",
     "text": [
      "The total number of unique conservation category names is:  4\n",
      "The unique conservation category names are: \n",
      "\t- nan\n",
      "\t- Species of Concern\n",
      "\t- Endangered\n",
      "\t- Threatened\n",
      "\t- In Recovery\n"
     ]
    }
   ],
   "source": [
    "conservation_category_count = species_data.conservation_status.nunique()\n",
    "conservation_categories = species_data.conservation_status.unique()\n",
    "\n",
    "print(\"The total number of unique conservation category names is: \", conservation_category_count)\n",
    "print(\"The unique conservation category names are: \")\n",
    "for name in conservation_categories:\n",
    "    print('\\t- ' + str(name))"
   ]
  },
  {
   "attachments": {},
   "cell_type": "markdown",
   "metadata": {},
   "source": [
    "#### 3.5 Species count for each unique conservation status category\n",
    "To obtain this count, we can simply group the data set by category and obtain the size of each data set.\n",
    "- Note that here the 'nan' category just refers to the species that do not face any kind of endengerment"
   ]
  },
  {
   "cell_type": "code",
   "execution_count": 11,
   "metadata": {},
   "outputs": [
    {
     "name": "stdout",
     "output_type": "stream",
     "text": [
      "conservation_status\n",
      "Endangered             16\n",
      "In Recovery             4\n",
      "Species of Concern    161\n",
      "Threatened             10\n",
      "dtype: int64\n",
      "Nan :  5633\n"
     ]
    }
   ],
   "source": [
    "grouped_conservation_categories = species_data.groupby(\"conservation_status\").size()\n",
    "nan_category = species_data.conservation_status.isna().sum()\n",
    "print(grouped_conservation_categories)\n",
    "print(\"Nan : \", nan_category)"
   ]
  },
  {
   "attachments": {},
   "cell_type": "markdown",
   "metadata": {},
   "source": [
    "#### 3.6 Observations\n",
    "Next we explore at our observations data. Firstly we want to know how many parks our data was collected from along with their names. We would also like to further determine the total amount of observations that were recorded within the 7 day study period."
   ]
  },
  {
   "cell_type": "code",
   "execution_count": 17,
   "metadata": {},
   "outputs": [
    {
     "name": "stdout",
     "output_type": "stream",
     "text": [
      "The total number of unique parks is:  4\n",
      "The unique park names are: \n",
      "\t- Great Smoky Mountains National Park\n",
      "\t- Yosemite National Park\n",
      "\t- Bryce National Park\n",
      "\t- Yellowstone National Park\n",
      "The total number of observations recorded is:  3314739\n"
     ]
    }
   ],
   "source": [
    "number_parks = observation_data.park_name.nunique()\n",
    "park_names = observation_data.park_name.unique()\n",
    "total_observations = observation_data.observations.sum()\n",
    "\n",
    "print(\"The total number of unique parks is: \", number_parks)\n",
    "print(\"The unique park names are: \")\n",
    "for park in park_names:\n",
    "    print('\\t- ' + park)\n",
    "print(\"The total number of observations recorded is: \", total_observations)"
   ]
  },
  {
   "attachments": {},
   "cell_type": "markdown",
   "metadata": {},
   "source": [
    "### Step 4. Analysis\n",
    "In this section we will focus on analysing the data we explored in the above section. In order to do this, we first need to clean and tune our data. We can start with the conservation status column where we saw a lot of `Nan values` which we will now change to `No Intervention`. These are the categories of the conservation status:\n",
    "- `Species of Concern`: declining or appear to be in need of conservation\n",
    "- `Threatened`: vulnerable to endangerment in the near future\n",
    "- `Endangered`: seriously at risk of extinction\n",
    "- `In Recovery`: formerly `Endangered`, but currently neither in danger of extinction throughout all or a significant portion of its range"
   ]
  },
  {
   "cell_type": "code",
   "execution_count": 21,
   "metadata": {},
   "outputs": [
    {
     "data": {
      "text/plain": [
       "conservation_status\n",
       "Endangered              16\n",
       "In Recovery              4\n",
       "No Intervention       5633\n",
       "Species of Concern     161\n",
       "Threatened              10\n",
       "dtype: int64"
      ]
     },
     "execution_count": 21,
     "metadata": {},
     "output_type": "execute_result"
    }
   ],
   "source": [
    "species_data.fillna('No Intervention', inplace=True)\n",
    "species_data.groupby(\"conservation_status\").size()"
   ]
  }
 ],
 "metadata": {
  "kernelspec": {
   "display_name": "Python 3 (ipykernel)",
   "language": "python",
   "name": "python3"
  },
  "language_info": {
   "codemirror_mode": {
    "name": "ipython",
    "version": 3
   },
   "file_extension": ".py",
   "mimetype": "text/x-python",
   "name": "python",
   "nbconvert_exporter": "python",
   "pygments_lexer": "ipython3",
   "version": "3.11.1"
  },
  "vscode": {
   "interpreter": {
    "hash": "2706c2a2b0ef63659978c3e1eb7d58fc0b658e99d88918826a8eb8acbc5c6fa5"
   }
  }
 },
 "nbformat": 4,
 "nbformat_minor": 4
}
