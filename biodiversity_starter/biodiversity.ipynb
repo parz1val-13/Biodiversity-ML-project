{
 "cells": [
  {
   "cell_type": "markdown",
   "metadata": {},
   "source": [
    "# Introduction\n",
    "\n",
    "The purpose of this Project is to analyze data about diverse species observed in various national park areas. The data used for this project was obtained from the national park service and is *inspired* by genuine data but is primarily fictitious. \n",
    "\n",
    "This project will scope, analyse, prepare, plot data, and attempt to explain the conclusions of the analysis.\n",
    "\n",
    "The project objective can be broken down into the following questions:\n",
    "\n",
    "- What is the distribution of conservation status for species?\n",
    "- Are particular sorts of species more likely to become endangered?\n",
    "- Are differences in species conservation status relatively significant?\n",
    "- Which animals are most common, and how are they distributed among parks?\n",
    "\n",
    "**Data sources:**\n",
    "\n",
    "'Observations.csv' and 'Species info.csv' - [Codecademy.com](https://www.codecademy.com).\n"
   ]
  },
  {
   "cell_type": "markdown",
   "metadata": {},
   "source": [
    "# Scope\n",
    "\n",
    "This project aims to help the national park services to prevent loss of biodiversity from various national parks. The loss of biodiversity impacts the whole eco system of the park as a whole since all life forms within the park depend on each other either directly or indirectly.\n",
    "\n",
    " The first section defines the project goals; this section will outline the high-level objectives and set the project's aims. The second section is the data; which is already provided in this project, but it still needs to be cleaned and tuned to meet the project goals. The third section includes the analysis, which includes the methodologies and questions that are linked with the project objectives. Finally, the evaluation will aid us in drawing conclusions to explain our findings from our analysis.\n",
    "\n",
    "#### 1. Project Goals\n",
    "\n",
    "The perspective of the this project will be through a biodiversity analyst for the National Parks Service. As analysts, we want to identify any at-risk and endangered species to ensure their survival, in order to maintain a high level of biodiversity within their parks. Therefore, the main objectives as an analyst will be understanding characteristics about the species, their conservations status, and their relationship to the rest of the national park's ecosystem. The project goals can be framed into the following questions:\n",
    "\n",
    "- What is the distribution of conservation status for species?\n",
    "- Identify types of species which are more likely to be endangered if any?\n",
    "- Are the differences between species and their conservation status significant?\n",
    "- Which animal species is the most common and what is their distribution amongst different national parks?\n",
    "\n",
    "#### 2. Data\n",
    "\n",
    "The first `csv` file has information about each species and the other has observations of species with respective park locations. \n",
    "\n",
    "#### 3. Analysis\n",
    "\n",
    "To perform data analysis, descriptive statistics and data visualization techniques will be employed to understand the data. Statistical inference will also be used to test if the observed values are statistically significant. Some of the key metrics that will be computed include: \n",
    "\n",
    "1. Distributions\n",
    "1. counts\n",
    "1. relationship between species\n",
    "1. conservation status of species\n",
    "1. observations of species in parks. \n",
    "\n",
    "#### 4. Evaluation\n",
    "\n",
    "Lastly, in this section we will revisit the goals and check if the output of the analysis can explain the questions we first set to answer. This section will also reflect on what has been learned through the process, and if any of the questions were left un-answered. This could also include limitations or if any of the analysis could have been done using different techniques.\n"
   ]
  },
  {
   "cell_type": "markdown",
   "metadata": {},
   "source": [
    "# PROJECT CODE"
   ]
  },
  {
   "attachments": {},
   "cell_type": "markdown",
   "metadata": {},
   "source": [
    "### Step 1. Importing modules\n",
    "We import the following modules to achieve the respective goals;\n",
    "\n",
    "- PANDAS - We import pandas to create a csv reader object that can be used to extract the raw data from the provided data files.\n",
    "\n",
    " "
   ]
  },
  {
   "cell_type": "code",
   "execution_count": null,
   "metadata": {},
   "outputs": [],
   "source": [
    "import pandas as pd\n",
    "\n"
   ]
  },
  {
   "attachments": {},
   "cell_type": "markdown",
   "metadata": {},
   "source": [
    "### Step 2. Load the Data\n",
    "The given CSV data files include:\n",
    "\n",
    "species_info.csv - contains data about different species and their conservation status\n",
    "observations.csv - holds recorded sightings of different species at several national parks for the past 7 days.\n",
    "The datasets provided have the following columns of data:\n",
    "\n",
    "species_info.csv:\n",
    "\n",
    "- category - class of animal\n",
    "- scientific_name - the scientific name of each species\n",
    "- common_name - the common names of each species\n",
    "- conservation_status - each species’ current conservation status\n",
    "\n",
    "observations.csv:\n",
    "\n",
    "- scientific_name - the scientific name of each species\n",
    "- park_name - Park where species were found\n",
    "- observations - the number of times each species was observed at park"
   ]
  },
  {
   "cell_type": "code",
   "execution_count": null,
   "metadata": {},
   "outputs": [],
   "source": [
    "species_data = pd.read_csv('species_info.csv')  # We utilise dataframe data structure to store extracted data\n",
    "species_data.head()  # To peek the the extracted data\n",
    "\n",
    "observation_data = pd.read_csv('observations.csv')\n",
    "observation_data.head()"
   ]
  },
  {
   "cell_type": "code",
   "execution_count": null,
   "metadata": {},
   "outputs": [],
   "source": [
    "species_shape = species_data.shape  # To check the dimensions of the species data matrix\n",
    "print('Species data dimensions are:', species_shape)\n",
    "observation_shape = observation_data.shape  # To check the dimensions of the observed data matrix\n",
    "print('Observed data dimensions are:', observation_shape)"
   ]
  },
  {
   "attachments": {},
   "cell_type": "markdown",
   "metadata": {},
   "source": [
    "### Step 3. Exploring the Data\n",
    "To calculate summary statistics for our data sets;\n",
    "- We first need to extract the total number of species we are dealing with\n",
    "- Next we need to know the distinct categories of species we have\n",
    "- Then we can obtain the counts of species in each of the categories\n",
    "- And finally we can obtain the number of conservation status categories and their counts respectively "
   ]
  },
  {
   "attachments": {},
   "cell_type": "markdown",
   "metadata": {},
   "source": [
    "#### 3.1 Species count\n",
    "To obtain this count, we can simply look for all the unique species names in the scientific_name column in the species_info.csv data file and count them up."
   ]
  },
  {
   "cell_type": "code",
   "execution_count": null,
   "metadata": {},
   "outputs": [],
   "source": [
    "species_count = species_data.scientific_name.nunique()\n",
    "print(\"The total number of unique species is: \", species_count)"
   ]
  },
  {
   "attachments": {},
   "cell_type": "markdown",
   "metadata": {},
   "source": [
    "#### 3.2 Species categories count\n",
    "To obtain this count, we can simply look for all the unique species category names in the category column in the species_info.csv data file and count them up."
   ]
  },
  {
   "cell_type": "code",
   "execution_count": null,
   "metadata": {},
   "outputs": [],
   "source": [
    "species_categories_count = species_data.category.nunique()\n",
    "print(\"The total number of unique species categories is: \", species_categories_count)"
   ]
  },
  {
   "attachments": {},
   "cell_type": "markdown",
   "metadata": {},
   "source": [
    "#### 3.3 Species count for each unique category\n",
    "To obtain this count, we can simply group the data set by category and obtain the size of each data set."
   ]
  },
  {
   "cell_type": "code",
   "execution_count": null,
   "metadata": {},
   "outputs": [],
   "source": [
    "grouped_categories = species_data.groupby(\"category\").size()\n",
    "print(grouped_categories)"
   ]
  }
 ],
 "metadata": {
  "kernelspec": {
   "display_name": "Python 3 (ipykernel)",
   "language": "python",
   "name": "python3"
  },
  "language_info": {
   "codemirror_mode": {
    "name": "ipython",
    "version": 3
   },
   "file_extension": ".py",
   "mimetype": "text/x-python",
   "name": "python",
   "nbconvert_exporter": "python",
   "pygments_lexer": "ipython3",
   "version": "3.11.1"
  },
  "vscode": {
   "interpreter": {
    "hash": "2706c2a2b0ef63659978c3e1eb7d58fc0b658e99d88918826a8eb8acbc5c6fa5"
   }
  }
 },
 "nbformat": 4,
 "nbformat_minor": 4
}
